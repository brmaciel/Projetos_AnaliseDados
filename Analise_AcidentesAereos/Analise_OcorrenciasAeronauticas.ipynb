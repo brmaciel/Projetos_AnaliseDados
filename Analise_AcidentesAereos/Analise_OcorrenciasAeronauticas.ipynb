{
 "cells": [
  {
   "cell_type": "markdown",
   "metadata": {},
   "source": [
    "# Análise de Ocorrências Aeronáuticas no Brasil"
   ]
  },
  {
   "cell_type": "markdown",
   "metadata": {},
   "source": [
    "### Objetivo\n",
    "Realizar uma análise sobre ocorrências de incidentes e acidentes aeronáuticos em território brasileiro a fim de identificar as características que podem contribuir em maior ou menor nível para o seu acontecimento.\n",
    "\n",
    "Essa análise foi feita utilizando o Microsoft Power BI"
   ]
  },
  {
   "cell_type": "markdown",
   "metadata": {},
   "source": [
    "### Dada Set\n",
    "**Ocorrências Aeronáuticas:** http://dados.gov.br/dataset/ocorrencias-aeronauticas-da-aviacao-civil-brasileira"
   ]
  },
  {
   "cell_type": "markdown",
   "metadata": {},
   "source": [
    "![\"Estrutura dos Dados\"](images/img01_dados.png)"
   ]
  },
  {
   "cell_type": "markdown",
   "metadata": {},
   "source": [
    "## Características de Voo e de Aeronaves"
   ]
  },
  {
   "cell_type": "markdown",
   "metadata": {},
   "source": [
    "![\"Caracteristicas Voo e Aeronaves - Ocorrências\"](images/img02_VooAeronavesOcorrencias.png)"
   ]
  },
  {
   "cell_type": "markdown",
   "metadata": {},
   "source": [
    "![\"Caracteristicas Voo e Aeronaves - Acidentes\"](images/img03_VooAeronavesAcidentes.png)"
   ]
  },
  {
   "cell_type": "markdown",
   "metadata": {},
   "source": [
    "**1. Redundâncias:** Já se sabe que na aviação sistemas redundantes auxiliam bastante na segurança do voo, e esse fato é claramente observado nessa análise. O aumento do número de motores está associado com menor número de ocorrências, principalmente quando analisado apenas as ocorrências de acidentes. \n",
    "  \n",
    "&nbsp;&nbsp; Por exemplo, para as **aeronaves bimotor**, o número **total de ocorrências** é de **2564**, enquanto que o **número de acidentes** é de apenas **253**, aproximadamente 10%. Possivelmente, a existência de um motor extra tenha contribuido para evitar que diversos incidentes tivessem evoluido para acidentes."
   ]
  },
  {
   "cell_type": "markdown",
   "metadata": {},
   "source": [
    "**2. Tipo de Motor:** A tecnologia do motor se mostra importante para as chances de ocorrências de incidentes e acidentes. Motores mais simples como o de **pistão** apresentam **mais registros de ocorrências**, principalmente quando comparado somente os acidentes.\n",
    "\n",
    "&nbsp;&nbsp; O motor a jato, por exemplo, é o mais avançado tecnologicamente, e apesar de apresentar um número alto de registros de ocorrências (1159), apenas 30 foram de fato acidentes, ou seja, 2.5%."
   ]
  },
  {
   "cell_type": "markdown",
   "metadata": {},
   "source": [
    "**3. Tipo de Operação:** Os **voos particulares** **lideram em números de ocorrências**. Porém um dado interessante são os números de **voos regulares** (aviação comercial), embora o número de incidentes seja alto, ao filtrar por apenas **acidentes**, esse número cai drasticamente para **menos de 2%**, mostrando a segurança desse tipo de aviação."
   ]
  },
  {
   "cell_type": "markdown",
   "metadata": {},
   "source": [
    "**4. Ano de Fabricação da Aeronave:** É possível notar alguns **picos de ocorrências** para as aeronaves fabricadas nos períodos de **(1973~1981)**, **(1988~1993)** e **(2006~2012)**, sendo esse último período com o pico mais alto. Mas é interessante notar que quando filtramos por apenas acidentes, o pico mais alto se move para o primeiro período. Possivelmente, a tecnologia de aeronaves mais novas tem ajudado a evitar que mais incidentes evoluam para acidentes."
   ]
  },
  {
   "cell_type": "markdown",
   "metadata": {},
   "source": [
    "**5. Etapa de Operação:** É comum se ouvir dizer que os momentos mais \"perigosos\" do voo são a decolagem e a aterrisagem, o que é confirmado pelo volume de ocorrências apresentado. Porém, um dado interessante que se pode extrair é que a proporção acidente-fatalidades é maior quando a aeronave está em fase de cruzeiro, em comparação com as duas fases anteriores"
   ]
  },
  {
   "cell_type": "markdown",
   "metadata": {},
   "source": [
    "## Estudo para Redução de Fatalidades\n"
   ]
  },
  {
   "cell_type": "markdown",
   "metadata": {},
   "source": [
    "![\"Estudo Redução de Fatalidades\"](images/img04_ReducaoFaltalidades.png)"
   ]
  },
  {
   "cell_type": "markdown",
   "metadata": {},
   "source": [
    "De início, podemos perceber que apenas **6.3% da ocorrências resultam na destruição da aeronave**. Ao mesmo tempo, acidentes cujas aeronaves foram ao estado de destruição são **responsáveis por 71% das fatalidades**. Dessa forma, essa etapa busca identificar, quais fatores mais contribuem para acidentes que levam as aeronaves à destruição."
   ]
  },
  {
   "cell_type": "markdown",
   "metadata": {},
   "source": [
    "**1. Causas do Acidente:** 4 causas de acidentes se destacam:\n",
    "- **Perda de Controle em o Voo:** Para essa causa seria necessário realizar uma análise mais aprofundada devido a generalidade do termo e das inúmeras possibilidades das causas que possibilitariam resultar na perda de controle durante o voo.\n",
    "- **Falha do Motor em Voo:** Essa causa é interessante, pois ela oferece suporte ao apresentado na análise das características de voo e aeronaves, em que a existência de motores extras como redundância auxilia na segurança do voo. Porém, vale ressaltar que não bastaria acrescentar mais motores para se ter mais segurança. Possivelmente manutenções feitas corretamente poderiam evitar esse tipo de problema e consequentemente os acidentes ocorridos.\n",
    "- **Colisão com Obstáculo durante a Decolagem/Pouso:** Essa causa mostra a importância de se ter um ambiente controlado nas áreas de pouso. Seria indicado inspecionar quais são os protocolos e regras adotados para o controle dessas áreas.\n",
    "- **Voo Controlado contra o Terreno:** Esse termo é utilizado para descrever situações em que os equipamentos da aeronave estavam funcionando perfeitamente, porém ainda sim o acidente ocorreu. Nesse caso, as probabilidades são que a causa foi erro humano ou desconhecimento do terreno. Dessa forma, um treinamento melhor e estudo sobre o local de voo por parte dos pilotos poderiam ser algumas das alternativas mais indicadas para evitar que esse tipo de acidente ocorresse.\n",
    "\n",
    "&nbsp;&nbsp; Outro ponto que vale ressaltar é o alto numero de causas definidas como \"Indeterminado\". A aviação se tornou o meio de transporte mais seguro, pois, ao longos dos anos, os acidentes que ocorriam eram estudados e eram oferecidas recomendações a serem adotadas para evitar que mais acidentes similares ocorressem. Dessa forma, investimentos na investigação de causas de acidentes aéreos é importante para definir as causas e oferecer mais informações para tornar esse tipo de transporte ainda mais seguro."
   ]
  },
  {
   "cell_type": "markdown",
   "metadata": {},
   "source": [
    "**2. Local:** Os estados de **São Paulo**, **Mato Grosso**, **Minas Gerais**, **Pará** e **Goiás** somam mais de **50%** de todos os **acidentes com destruição de aeronaves**. Seria interessante realizar uma análise mais detalhada a respeito dos estados a fim de detectar se esses valores são proporcionais ao volume de voos desses locais ou se algum estado se destaca na relação entre número de voos e número de acidentes, indicando possivelmente a influência do local para acidentes."
   ]
  },
  {
   "cell_type": "markdown",
   "metadata": {},
   "source": [
    "**3. Tipo de Operação:** Logo de cara é possível perceber que **voos particulares** são a esmagadora **maioria dos acidentes e fatalidades**. Enquanto que **voos regulares**, que se refere a aviação comercial, **se mostram** bem **seguros**. Um estudo mais detalhado do porque de **voos particulares** terem esse alto volume de acidente é extremamente importante para evitar a perdas de vidas, já que esse tipo de operação é responsável por mais de 50% das fatalidades registradas."
   ]
  },
  {
   "cell_type": "markdown",
   "metadata": {},
   "source": [
    "**4. Horário:** O volume de acidentes parece se distribuir de forma relativamente regular entre 10h e 22h, apresentando pequenos pico nos intervalos de (12h às 14h), (17h às 19h) e (20h às 22h)."
   ]
  },
  {
   "cell_type": "markdown",
   "metadata": {},
   "source": [
    "## Conclusão\n",
    "A aviação se mostra de fato um tipo de transporte muito seguro, porém está longe de ser imune a acidentes e fatalidades.\n",
    "\n",
    "Porém podemos detectar que certos **fatores contribuem** massivamente para a **segurança dos voos**, como:\n",
    " - **Redundância de motores**\n",
    " - **Tecnologias empregadas na aeronave**\n",
    " - **Tipo de aviação**\n",
    "\n",
    "A **aviação comercial** se mostra **extremamente segura**, sendo raros os casos em que há fatalidades. Em contrapartida, a **aviação particular** apresenta **falhas graves** e números altos em comparação com os demais tipos de aviação. A fim de evitar prejuízos e perdas de vidas, é importante dedicar esforços para estudar e criar soluções para melhorar a segurança nesse tipo de aviação."
   ]
  }
 ],
 "metadata": {
  "kernelspec": {
   "display_name": "Python 3",
   "language": "python",
   "name": "python3"
  },
  "language_info": {
   "codemirror_mode": {
    "name": "ipython",
    "version": 3
   },
   "file_extension": ".py",
   "mimetype": "text/x-python",
   "name": "python",
   "nbconvert_exporter": "python",
   "pygments_lexer": "ipython3",
   "version": "3.7.3"
  }
 },
 "nbformat": 4,
 "nbformat_minor": 2
}
