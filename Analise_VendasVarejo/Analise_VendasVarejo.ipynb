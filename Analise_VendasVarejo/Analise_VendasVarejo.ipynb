{
 "cells": [
  {
   "cell_type": "markdown",
   "metadata": {},
   "source": [
    "# Relatório de Vendas"
   ]
  },
  {
   "cell_type": "markdown",
   "metadata": {},
   "source": [
    "### Estudo de Caso\n",
    "A empresa é uma rede de varejo e vende produtos eletrônicos e eletrodomésticos. Ela possui lojas em diversas cidades dos estados da região Sudeste e nos estados do Paraná e Bahia.\n",
    "\n",
    "A empresa está montando a estratégia de vendas para o próximo ano e precisa saber quais os produtos com melhor desempenho de vendas e quais possuem poucas vendas, a fim de permiter negociar melhores condições com os principais fabricantes."
   ]
  },
  {
   "cell_type": "markdown",
   "metadata": {},
   "source": [
    "### Objetivo\n",
    "Oferecer relatórios que ofereçam diferentes ângulos de visão do negócio a fim de permitir fundamentar a estratégia de vendas para o ano seguinte."
   ]
  },
  {
   "cell_type": "markdown",
   "metadata": {},
   "source": [
    "### Modelo de Dados\n",
    "Processo de extração e tratamento dos dados e montagem do star schema"
   ]
  },
  {
   "cell_type": "code",
   "execution_count": 2,
   "metadata": {},
   "outputs": [
    {
     "data": {
      "text/html": [
       "<div>\n",
       "<style scoped>\n",
       "    .dataframe tbody tr th:only-of-type {\n",
       "        vertical-align: middle;\n",
       "    }\n",
       "\n",
       "    .dataframe tbody tr th {\n",
       "        vertical-align: top;\n",
       "    }\n",
       "\n",
       "    .dataframe thead th {\n",
       "        text-align: right;\n",
       "    }\n",
       "</style>\n",
       "<table border=\"1\" class=\"dataframe\">\n",
       "  <thead>\n",
       "    <tr style=\"text-align: right;\">\n",
       "      <th></th>\n",
       "      <th>Atributos</th>\n",
       "      <th>Descricao</th>\n",
       "    </tr>\n",
       "  </thead>\n",
       "  <tbody>\n",
       "    <tr>\n",
       "      <th>0</th>\n",
       "      <td>id-produto</td>\n",
       "      <td>identificador do produto</td>\n",
       "    </tr>\n",
       "    <tr>\n",
       "      <th>1</th>\n",
       "      <td>Produto</td>\n",
       "      <td>nome do produto</td>\n",
       "    </tr>\n",
       "    <tr>\n",
       "      <th>2</th>\n",
       "      <td>Categoria</td>\n",
       "      <td>categoria do produtop</td>\n",
       "    </tr>\n",
       "    <tr>\n",
       "      <th>3</th>\n",
       "      <td>Segmento</td>\n",
       "      <td>segmento do produto</td>\n",
       "    </tr>\n",
       "    <tr>\n",
       "      <th>4</th>\n",
       "      <td>Fabricante</td>\n",
       "      <td>fabricante do produto</td>\n",
       "    </tr>\n",
       "    <tr>\n",
       "      <th>5</th>\n",
       "      <td>Loja</td>\n",
       "      <td>loja onde foi efetuada a venda</td>\n",
       "    </tr>\n",
       "    <tr>\n",
       "      <th>6</th>\n",
       "      <td>Cidade</td>\n",
       "      <td>cidade da loja</td>\n",
       "    </tr>\n",
       "    <tr>\n",
       "      <th>7</th>\n",
       "      <td>Estado</td>\n",
       "      <td>estado da loja</td>\n",
       "    </tr>\n",
       "    <tr>\n",
       "      <th>8</th>\n",
       "      <td>Vendedor</td>\n",
       "      <td>nome do vendedor</td>\n",
       "    </tr>\n",
       "    <tr>\n",
       "      <th>9</th>\n",
       "      <td>id-vendedor</td>\n",
       "      <td>identificador do vendedor</td>\n",
       "    </tr>\n",
       "    <tr>\n",
       "      <th>10</th>\n",
       "      <td>DataVenda</td>\n",
       "      <td>data da venda</td>\n",
       "    </tr>\n",
       "    <tr>\n",
       "      <th>11</th>\n",
       "      <td>ValorVenda</td>\n",
       "      <td>valor da venda</td>\n",
       "    </tr>\n",
       "  </tbody>\n",
       "</table>\n",
       "</div>"
      ],
      "text/plain": [
       "      Atributos                       Descricao\n",
       "0    id-produto        identificador do produto\n",
       "1       Produto                 nome do produto\n",
       "2     Categoria           categoria do produtop\n",
       "3      Segmento             segmento do produto\n",
       "4    Fabricante           fabricante do produto\n",
       "5          Loja  loja onde foi efetuada a venda\n",
       "6        Cidade                  cidade da loja\n",
       "7        Estado                  estado da loja\n",
       "8      Vendedor                nome do vendedor\n",
       "9   id-vendedor       identificador do vendedor\n",
       "10    DataVenda                   data da venda\n",
       "11   ValorVenda                  valor da venda"
      ]
     },
     "execution_count": 2,
     "metadata": {},
     "output_type": "execute_result"
    }
   ],
   "source": [
    "from pandas import DataFrame\n",
    "atributos = [\"id-produto\", \"Produto\", \"Categoria\", \"Segmento\", \"Fabricante\", \"Loja\", \"Cidade\", \"Estado\", \"Vendedor\", \"id-vendedor\", \"DataVenda\", \"ValorVenda\"]\n",
    "descricao = [\"identificador do produto\", \"nome do produto\", \"categoria do produtop\", \"segmento do produto\", \"fabricante do produto\", \"loja onde foi efetuada a venda\", \"cidade da loja\", \"estado da loja\", \"nome do vendedor\", \"identificador do vendedor\", \"data da venda\", \"valor da venda\"]\n",
    "dados = {\"Atributos\": atributos, \"Descricao\": descricao}\n",
    "\n",
    "df = DataFrame(dados, columns=[\"Atributos\", \"Descricao\"])\n",
    "df"
   ]
  },
  {
   "cell_type": "markdown",
   "metadata": {},
   "source": [
    "![Dados_StarSchema](images/img01_starSchema.png)"
   ]
  },
  {
   "cell_type": "markdown",
   "metadata": {},
   "source": [
    "### Visão Geral das Vendas por Segmentações\n",
    "Visão geral das vendas da companhia apresentadas por diferentes segmentações (Categoria, Segmento, Fabricante e Produto). É oferecida a possibilidade de filtrar os resultados por Categoria e Fabricante a fim de analisar os valores em mais detalhes."
   ]
  },
  {
   "cell_type": "markdown",
   "metadata": {},
   "source": [
    "![Dashboard_VisaoGeral](images/img02_visaoGeral.png)"
   ]
  },
  {
   "cell_type": "markdown",
   "metadata": {},
   "source": [
    "As categorias **Eletrodomésticos** e **Celulares** se destacam sendo responsáveis por **80% das vendas** "
   ]
  },
  {
   "cell_type": "markdown",
   "metadata": {},
   "source": [
    "![Dashboard_VisaoGeralEletrodomesticos](images/img03_geralEletrodomesticos.png)"
   ]
  },
  {
   "cell_type": "markdown",
   "metadata": {},
   "source": [
    "Na categoria **Eletrodomésticos**, duas marcas se destacam: **Brastemp** e **Consul**, sendo elas responsáveis por 160 mil em receita, num total de 195 mil, ou seja, mais de 80% das vendas da categoria."
   ]
  },
  {
   "cell_type": "markdown",
   "metadata": {},
   "source": [
    "![Dashboard_VisaoGeralCelulares](images/img04_geralCelulares.png)"
   ]
  },
  {
   "cell_type": "markdown",
   "metadata": {},
   "source": [
    "Já na categoria **Celulares**, as marcas **Samsung** e **Motorola** dominam as vendas sendo responsáveis por **98% do total da receita** da categoria."
   ]
  },
  {
   "cell_type": "markdown",
   "metadata": {},
   "source": [
    "### Progressão das Vendas nos anos anteriores\n",
    "Esse relatório é complementar ao relatório anterior. Oferece aos gestores detalhes de como as vendas vem progredindo nos últimos anos a fim de encontrar tendências de crescimento ou declínio nos diferentes produtos vendidos."
   ]
  },
  {
   "cell_type": "markdown",
   "metadata": {},
   "source": [
    "![Dashboard_ProgressaoVendas](images/img05_progressaoVendas.png)"
   ]
  },
  {
   "cell_type": "markdown",
   "metadata": {},
   "source": [
    "A empresa vem apresentando um **crescimento nas vendas**, embora o ano de 2014 tenha apresentado um grande queda de receita."
   ]
  },
  {
   "cell_type": "markdown",
   "metadata": {},
   "source": [
    "![Dashboard_ProgressaoEletronicos](images/img06_progressaoEletronicos.png)"
   ]
  },
  {
   "cell_type": "markdown",
   "metadata": {},
   "source": [
    "A categoria de **Eletrônicos** é a **única** que apresenta uma tendência de **declínio**.\n",
    "\n",
    "A marca **Dell** possuia uma venda regular no passado. Se a empresa parou de comercializar a marca, talvez seja interessante buscar retornar com os produtos da marca. Já a **HP**, apesar de ser a marca **mais vendida** da categoria apresentou um **declínio nas vendas** no passar dos anos. Enquanto que a **Epson** tem apresentado um **leve crescimento**."
   ]
  },
  {
   "cell_type": "markdown",
   "metadata": {},
   "source": [
    "![Dashboard_ProgressaoEletroportateis](images/img07_progressaoEletroportateis.png)"
   ]
  },
  {
   "cell_type": "markdown",
   "metadata": {},
   "source": [
    "A categoria **Eletroportáteis**, apresentou um **grande crescimento no último ano**, triplicando as vendas."
   ]
  },
  {
   "cell_type": "markdown",
   "metadata": {},
   "source": [
    "### Vendas por Região\n",
    "Relatório oferece uma visão regionalizada das vendas da empresa, permitindo realizar análises e adotar medidas personalizadas para os diferentes estados de atuação."
   ]
  },
  {
   "cell_type": "markdown",
   "metadata": {},
   "source": [
    "![Dashboard_Regiao](images/img08_vendasRegiao.png)"
   ]
  },
  {
   "cell_type": "markdown",
   "metadata": {},
   "source": [
    "Os estados de **SP e RJ** são responsáveis por **80% das vendas** da empresa.\n",
    "\n",
    "Com base na análise por trimestres, RJ e SP são os únicos estados que apresentam uma tendência de crescimento nas vendas, enquanto que PR e BA a tendência é de declínio, e MG e ES a tendência das vendas é se manter no mesmo patamar.\n",
    "\n",
    "É interessante notar que o RJ foi o único estado que apresentou um aumento nas vendas em 2014."
   ]
  }
 ],
 "metadata": {
  "kernelspec": {
   "display_name": "Python 3",
   "language": "python",
   "name": "python3"
  },
  "language_info": {
   "codemirror_mode": {
    "name": "ipython",
    "version": 3
   },
   "file_extension": ".py",
   "mimetype": "text/x-python",
   "name": "python",
   "nbconvert_exporter": "python",
   "pygments_lexer": "ipython3",
   "version": "3.7.3"
  }
 },
 "nbformat": 4,
 "nbformat_minor": 2
}
